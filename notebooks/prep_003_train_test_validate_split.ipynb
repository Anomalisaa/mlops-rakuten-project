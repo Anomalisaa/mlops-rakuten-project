{
 "cells": [
  {
   "cell_type": "code",
   "execution_count": 7,
   "metadata": {},
   "outputs": [],
   "source": [
    "import pandas as pd\n",
    "import numpy as np\n",
    "import pickle\n",
    "\n",
    "from sklearn.model_selection import train_test_split"
   ]
  },
  {
   "cell_type": "code",
   "execution_count": 3,
   "metadata": {},
   "outputs": [
    {
     "data": {
      "text/html": [
       "<div>\n",
       "<style scoped>\n",
       "    .dataframe tbody tr th:only-of-type {\n",
       "        vertical-align: middle;\n",
       "    }\n",
       "\n",
       "    .dataframe tbody tr th {\n",
       "        vertical-align: top;\n",
       "    }\n",
       "\n",
       "    .dataframe thead th {\n",
       "        text-align: right;\n",
       "    }\n",
       "</style>\n",
       "<table border=\"1\" class=\"dataframe\">\n",
       "  <thead>\n",
       "    <tr style=\"text-align: right;\">\n",
       "      <th></th>\n",
       "      <th>imageid</th>\n",
       "      <th>prdtypecode</th>\n",
       "      <th>cleaned_text</th>\n",
       "      <th>lemmatized_text</th>\n",
       "    </tr>\n",
       "  </thead>\n",
       "  <tbody>\n",
       "    <tr>\n",
       "      <th>0</th>\n",
       "      <td>1263597046</td>\n",
       "      <td>10</td>\n",
       "      <td>olivia personalisiertes notizbuch  150 seiten ...</td>\n",
       "      <td>[olivia, personalisiertes, notizbuch, 150, sei...</td>\n",
       "    </tr>\n",
       "    <tr>\n",
       "      <th>1</th>\n",
       "      <td>1008141237</td>\n",
       "      <td>2280</td>\n",
       "      <td>journal des arts le n 133 du 28092001  lart et...</td>\n",
       "      <td>[journal, art, 133, 28092001, lart, marche, sa...</td>\n",
       "    </tr>\n",
       "    <tr>\n",
       "      <th>2</th>\n",
       "      <td>938777978</td>\n",
       "      <td>50</td>\n",
       "      <td>grand stylet ergonomique bleu gamepad nintendo...</td>\n",
       "      <td>[grand, stylet, ergonomique, bleu, gamepad, ni...</td>\n",
       "    </tr>\n",
       "    <tr>\n",
       "      <th>3</th>\n",
       "      <td>457047496</td>\n",
       "      <td>1280</td>\n",
       "      <td>peluche donald  europe  disneyland 2000 marion...</td>\n",
       "      <td>[peluche, donald, europe, disneyland, 2000, ma...</td>\n",
       "    </tr>\n",
       "    <tr>\n",
       "      <th>4</th>\n",
       "      <td>1077757786</td>\n",
       "      <td>2705</td>\n",
       "      <td>la guerre des tuques luc a des ideacutees de g...</td>\n",
       "      <td>[guerre, tuques, luc, ideacutees, grandeur, ve...</td>\n",
       "    </tr>\n",
       "  </tbody>\n",
       "</table>\n",
       "</div>"
      ],
      "text/plain": [
       "      imageid  prdtypecode                                       cleaned_text  \\\n",
       "0  1263597046           10  olivia personalisiertes notizbuch  150 seiten ...   \n",
       "1  1008141237         2280  journal des arts le n 133 du 28092001  lart et...   \n",
       "2   938777978           50  grand stylet ergonomique bleu gamepad nintendo...   \n",
       "3   457047496         1280  peluche donald  europe  disneyland 2000 marion...   \n",
       "4  1077757786         2705  la guerre des tuques luc a des ideacutees de g...   \n",
       "\n",
       "                                     lemmatized_text  \n",
       "0  [olivia, personalisiertes, notizbuch, 150, sei...  \n",
       "1  [journal, art, 133, 28092001, lart, marche, sa...  \n",
       "2  [grand, stylet, ergonomique, bleu, gamepad, ni...  \n",
       "3  [peluche, donald, europe, disneyland, 2000, ma...  \n",
       "4  [guerre, tuques, luc, ideacutees, grandeur, ve...  "
      ]
     },
     "execution_count": 3,
     "metadata": {},
     "output_type": "execute_result"
    }
   ],
   "source": [
    "df_processed = pd.read_pickle(\"../data/processed/df_text_processed.pkl\")\n",
    "df_processed.head()"
   ]
  },
  {
   "cell_type": "code",
   "execution_count": null,
   "metadata": {},
   "outputs": [],
   "source": [
    "X = df_processed.drop([\"prdtypecode\"], axis=1)\n",
    "target = df_processed[\"prdtypecode\"]"
   ]
  },
  {
   "cell_type": "code",
   "execution_count": 13,
   "metadata": {},
   "outputs": [
    {
     "name": "stdout",
     "output_type": "stream",
     "text": [
      "<class 'pandas.core.series.Series'>\n",
      "RangeIndex: 84916 entries, 0 to 84915\n",
      "Series name: prdtypecode\n",
      "Non-Null Count  Dtype\n",
      "--------------  -----\n",
      "84916 non-null  int64\n",
      "dtypes: int64(1)\n",
      "memory usage: 663.5 KB\n"
     ]
    }
   ],
   "source": [
    "target.info()"
   ]
  },
  {
   "cell_type": "markdown",
   "metadata": {},
   "source": [
    "#### Splitting the data for train, validate, test sets\n",
    "train - 70%\n",
    "\n",
    "validate - 20%\n",
    "\n",
    "test - 10%\n",
    "\n",
    "first split: test_size = 0.10\n",
    "\n",
    "second split (90% as base): test_size = 0.2222"
   ]
  },
  {
   "cell_type": "code",
   "execution_count": 18,
   "metadata": {},
   "outputs": [],
   "source": [
    "X_train_validate, X_test, target_train_validate, y_test = train_test_split(X, target, test_size=0.1, random_state=36, stratify=target)\n",
    "X_train, X_validate, y_train, y_validate = train_test_split(X_train_validate, target_train_validate, test_size=0.2222, random_state=36, stratify=target_train_validate)"
   ]
  },
  {
   "cell_type": "code",
   "execution_count": 19,
   "metadata": {},
   "outputs": [
    {
     "name": "stdout",
     "output_type": "stream",
     "text": [
      "<class 'pandas.core.series.Series'>\n",
      "Index: 76424 entries, 84861 to 31001\n",
      "Series name: prdtypecode\n",
      "Non-Null Count  Dtype\n",
      "--------------  -----\n",
      "76424 non-null  int64\n",
      "dtypes: int64(1)\n",
      "memory usage: 1.2 MB\n"
     ]
    }
   ],
   "source": [
    "target_train_validate.info()"
   ]
  },
  {
   "cell_type": "code",
   "execution_count": 20,
   "metadata": {},
   "outputs": [],
   "source": [
    "X_train.to_pickle(\"../data/processed/X_train.pkl\")\n",
    "y_train.to_pickle(\"../data/processed/y_train.pkl\")\n",
    "X_validate.to_pickle(\"../data/processed/X_validate.pkl\")\n",
    "y_validate.to_pickle(\"../data/processed/y_validate.pkl\")\n",
    "X_test.to_pickle(\"../data/processed/X_test.pkl\")\n",
    "y_test.to_pickle(\"../data/processed/y_test.pkl\")"
   ]
  }
 ],
 "metadata": {
  "kernelspec": {
   "display_name": "Python (masterclass_venv)",
   "language": "python",
   "name": "venv"
  },
  "language_info": {
   "codemirror_mode": {
    "name": "ipython",
    "version": 3
   },
   "file_extension": ".py",
   "mimetype": "text/x-python",
   "name": "python",
   "nbconvert_exporter": "python",
   "pygments_lexer": "ipython3",
   "version": "3.12.0"
  }
 },
 "nbformat": 4,
 "nbformat_minor": 2
}
