{
 "cells": [
  {
   "cell_type": "code",
   "execution_count": 13,
   "metadata": {},
   "outputs": [],
   "source": [
    "import pandas as pd\n",
    "import numpy as np\n",
    "import pickle\n",
    "\n",
    "from sklearn.feature_extraction.text import TfidfVectorizer"
   ]
  },
  {
   "cell_type": "code",
   "execution_count": 7,
   "metadata": {},
   "outputs": [],
   "source": [
    "X_train = pd.read_pickle(\"../data/processed/X_train.pkl\")[\"cleaned_text\"]\n",
    "X_validate = pd.read_pickle(\"../data/processed/X_validate.pkl\")[\"cleaned_text\"]\n",
    "X_test = pd.read_pickle(\"../data/processed/X_test.pkl\")[\"cleaned_text\"]"
   ]
  },
  {
   "cell_type": "code",
   "execution_count": 9,
   "metadata": {},
   "outputs": [],
   "source": [
    "# 1. Create a TF-IDF vectorizer with the given parameters\n",
    "tfidf_vectorizer = TfidfVectorizer(ngram_range=(1, 3), max_df=0.9, min_df=2)\n",
    "\n",
    "# 2. Fit the vectorizer on the training set and transform all sets\n",
    "X_train_tfidf = tfidf_vectorizer.fit_transform(X_train)\n",
    "X_validate_tfidf = tfidf_vectorizer.transform(X_validate)\n",
    "X_test_tfidf = tfidf_vectorizer.transform(X_test)"
   ]
  },
  {
   "cell_type": "code",
   "execution_count": 14,
   "metadata": {},
   "outputs": [],
   "source": [
    "# Saving the TF-IDF vectors\n",
    "\n",
    "# Saving X_train_tfidf\n",
    "with open('../data/processed/X_train_tfidf.pkl', 'wb') as file:\n",
    "    pickle.dump(X_train_tfidf, file)\n",
    "\n",
    "# Saving X_val_tfidf\n",
    "with open('../data/processed/X_validate_tfidf.pkl', 'wb') as file:\n",
    "    pickle.dump(X_validate_tfidf, file)\n",
    "\n",
    "# Saving X_test_tfidf\n",
    "with open('../data/processed/X_test_tfidf.pkl', 'wb') as file:\n",
    "    pickle.dump(X_test_tfidf, file)"
   ]
  }
 ],
 "metadata": {
  "kernelspec": {
   "display_name": "Python (masterclass_venv)",
   "language": "python",
   "name": "venv"
  },
  "language_info": {
   "codemirror_mode": {
    "name": "ipython",
    "version": 3
   },
   "file_extension": ".py",
   "mimetype": "text/x-python",
   "name": "python",
   "nbconvert_exporter": "python",
   "pygments_lexer": "ipython3",
   "version": "3.12.0"
  }
 },
 "nbformat": 4,
 "nbformat_minor": 2
}
