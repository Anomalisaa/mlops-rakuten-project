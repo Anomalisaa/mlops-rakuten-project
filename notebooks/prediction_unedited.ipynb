{
 "cells": [
  {
   "cell_type": "code",
   "execution_count": 50,
   "id": "7ae70efd-e26f-4e07-9c9d-681d17675be5",
   "metadata": {},
   "outputs": [],
   "source": [
    "import re\n",
    "import pickle\n",
    "import pandas as pd\n",
    "from nltk.corpus import stopwords"
   ]
  },
  {
   "cell_type": "code",
   "execution_count": 66,
   "id": "3bb61c00-2e38-478f-9d73-496cfdd3ecf8",
   "metadata": {},
   "outputs": [
    {
     "name": "stdout",
     "output_type": "stream",
     "text": [
      "Random Row Selected:\n",
      "Designation: Lot De 10 Ballons - Latex - Chiffre 8 - Amscan\n",
      "Description: Lot de 10 Ballons - Latex - Chiffre 8<br />Lot de 10 Ballons - Latex - Chiffre 8\n",
      "Predicted Product Type: 2060\n"
     ]
    }
   ],
   "source": [
    "## Preprocessing Setup \n",
    "\n",
    "# Define stopwords (English, French, and custom)\n",
    "stop_words_eng = set(stopwords.words('english'))\n",
    "stop_words_fr = set(stopwords.words('french'))\n",
    "custom_stopwords = set([\"chez\", \"der\", \"plu\", \"haut\", \"peut\", \"non\", \"100\", \"produit\", \"lot\", \"tout\", \"cet\", \"cest\", \"sou\", \"san\"])\n",
    "stop_words = stop_words_eng.union(stop_words_fr).union(custom_stopwords)\n",
    "\n",
    "def preprocess_text_cleaning_only(text, vectorizer):\n",
    "    \"\"\"\n",
    "    Preprocess text: lowercasing, cleaning, and removing stopwords.\n",
    "    \"\"\"\n",
    "    # Step 1: Lowercase and remove special characters\n",
    "    cleaned_text = re.sub(r'[^a-zA-Z0-9\\s]', '', text.lower())\n",
    "    \n",
    "    # Step 2: Remove stopwords directly from the text\n",
    "    cleaned_text = ' '.join(word for word in cleaned_text.split() if word not in stop_words)\n",
    "    \n",
    "    # Step 3: Transform using the pre-trained TF-IDF vectorizer\n",
    "    return vectorizer.transform([cleaned_text])\n",
    "\n",
    "# Load model\n",
    "def load_model(file_path):\n",
    "    with open(file_path, 'rb') as file:\n",
    "        return pickle.load(file)\n",
    "\n",
    "# File paths for saved models and vectorizer\n",
    "text_vectorizer_path = \"~/tfidf_vectorizer.pkl\"\n",
    "text_model_path = \"~/sgd_text_model.pkl\"\n",
    "\n",
    "# Load models and vectorizer\n",
    "tfidf_vectorizer = load_model(text_vectorizer_path)\n",
    "text_model = load_model(text_model_path)\n",
    "\n",
    "# Random Row Prediction\n",
    "def predict_random_row(df):\n",
    "    \"\"\"\n",
    "    Randomly select a row, preprocess the text, and predict the product type.\n",
    "    \"\"\"\n",
    "    # Randomly select a row from the DataFrame\n",
    "    random_row = df.sample(n=1).iloc[0]\n",
    "    \n",
    "    # Extract the text to predict\n",
    "    designation = random_row['designation']\n",
    "    description = random_row['description'] if pd.notnull(random_row['description']) else \"\"\n",
    "    text = f\"{designation} {description}\"\n",
    "    \n",
    "    # Preprocess and vectorize the text\n",
    "    text_vectorized = preprocess_text_cleaning_only(text, tfidf_vectorizer)\n",
    "    \n",
    "    # Predict the product type\n",
    "    prediction = text_model.predict(text_vectorized)[0]\n",
    "    \n",
    "    # Output the result\n",
    "    print(\"Random Row Selected:\")\n",
    "    print(f\"Designation: {designation}\")\n",
    "    print(f\"Description: {description}\")\n",
    "    print(f\"Predicted Product Type: {prediction}\")\n",
    "\n",
    "# Example\n",
    "if __name__ == \"__main__\":\n",
    "    # Load test data directly from a DataFrame\n",
    "    test_data_path = \"~/X_test_update.csv\"  ´\n",
    "    test_df = pd.read_csv(test_data_path)\n",
    "    \n",
    "    # Predict a random row\n",
    "    predict_random_row(test_df)\n"
   ]
  },
  {
   "cell_type": "code",
   "execution_count": null,
   "id": "c906b3c5-ed22-476c-9368-edeb7b9e5af7",
   "metadata": {},
   "outputs": [],
   "source": []
  }
 ],
 "metadata": {
  "kernelspec": {
   "display_name": "Python 3 (ipykernel)",
   "language": "python",
   "name": "python3"
  },
  "language_info": {
   "codemirror_mode": {
    "name": "ipython",
    "version": 3
   },
   "file_extension": ".py",
   "mimetype": "text/x-python",
   "name": "python",
   "nbconvert_exporter": "python",
   "pygments_lexer": "ipython3",
   "version": "3.12.4"
  }
 },
 "nbformat": 4,
 "nbformat_minor": 5
}
