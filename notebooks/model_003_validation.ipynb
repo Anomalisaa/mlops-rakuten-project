{
 "cells": [
  {
   "cell_type": "code",
   "execution_count": 9,
   "metadata": {},
   "outputs": [],
   "source": [
    "import pandas as pd\n",
    "import numpy as np\n",
    "from sklearn.linear_model import SGDClassifier\n",
    "from sklearn.metrics import classification_report, f1_score, accuracy_score\n",
    "from sklearn.utils.class_weight import compute_class_weight\n",
    "import pickle\n",
    "import joblib\n",
    "from sys import argv"
   ]
  },
  {
   "cell_type": "code",
   "execution_count": 13,
   "metadata": {},
   "outputs": [],
   "source": [
    "input_dir = \"../data/processed\"\n",
    "y_validate_path = f\"{input_dir}/y_validate.pkl\"\n",
    "X_validate_tfidf_path = f\"{input_dir}/X_validate_tfidf.pkl\"\n",
    "output_dir = \"../models\""
   ]
  },
  {
   "cell_type": "code",
   "execution_count": 14,
   "metadata": {},
   "outputs": [],
   "source": [
    "# Load datasets\n",
    "\n",
    "X_validate_tfidf = pd.read_pickle(X_validate_tfidf_path)\n",
    "y_validate = pd.read_pickle(y_validate_path)"
   ]
  },
  {
   "cell_type": "code",
   "execution_count": 15,
   "metadata": {},
   "outputs": [],
   "source": [
    "# Load the trained model\n",
    "\n",
    "model_path = f\"{output_dir}/sgd_text_model.pkl\"\n",
    "model = joblib.load(model_path)"
   ]
  },
  {
   "cell_type": "code",
   "execution_count": 16,
   "metadata": {},
   "outputs": [],
   "source": [
    "# Prediction on validation dataset\n",
    "\n",
    "y_pred_validate = model.predict(X_validate_tfidf)\n",
    "val_accuracy = accuracy_score(y_validate, y_pred_validate)\n",
    "val_f1 = f1_score(y_validate, y_pred_validate, average='weighted')\n",
    "classification_rep = classification_report(y_validate, y_pred_validate)\n",
    "\n"
   ]
  },
  {
   "cell_type": "code",
   "execution_count": 17,
   "metadata": {},
   "outputs": [],
   "source": [
    "# Save evaluation results\n",
    "\n",
    "report_path = f\"{output_dir}/classification_report.txt\"\n",
    "with open(report_path, \"w\") as f:\n",
    "    f.write(classification_rep)\n",
    "\n"
   ]
  },
  {
   "cell_type": "code",
   "execution_count": 18,
   "metadata": {},
   "outputs": [
    {
     "name": "stdout",
     "output_type": "stream",
     "text": [
      "Validation Accuracy: 0.8196325521140031\n",
      "Validation F1 Score: 0.8193284894191992\n",
      "Classification Report:\n",
      "              precision    recall  f1-score   support\n",
      "\n",
      "          10       0.49      0.56      0.52       623\n",
      "          40       0.75      0.64      0.70       501\n",
      "          50       0.81      0.85      0.83       336\n",
      "          60       0.92      0.86      0.89       166\n",
      "        1140       0.75      0.82      0.78       534\n",
      "        1160       0.94      0.93      0.94       791\n",
      "        1180       0.77      0.61      0.68       153\n",
      "        1280       0.69      0.59      0.64       974\n",
      "        1281       0.66      0.61      0.64       414\n",
      "        1300       0.84      0.90      0.87      1009\n",
      "        1301       0.96      0.93      0.94       161\n",
      "        1302       0.84      0.81      0.83       498\n",
      "        1320       0.84      0.82      0.83       648\n",
      "        1560       0.84      0.85      0.84      1014\n",
      "        1920       0.89      0.92      0.91       861\n",
      "        1940       0.89      0.93      0.91       161\n",
      "        2060       0.81      0.80      0.81       999\n",
      "        2220       0.90      0.86      0.88       165\n",
      "        2280       0.72      0.79      0.75       952\n",
      "        2403       0.75      0.74      0.75       955\n",
      "        2462       0.79      0.78      0.79       284\n",
      "        2522       0.92      0.93      0.92       998\n",
      "        2582       0.82      0.75      0.78       518\n",
      "        2583       0.98      0.97      0.98      2042\n",
      "        2585       0.84      0.87      0.85       499\n",
      "        2705       0.68      0.72      0.70       552\n",
      "        2905       0.99      0.99      0.99       174\n",
      "\n",
      "    accuracy                           0.82     16982\n",
      "   macro avg       0.82      0.81      0.81     16982\n",
      "weighted avg       0.82      0.82      0.82     16982\n",
      "\n"
     ]
    }
   ],
   "source": [
    "# Print results to console\n",
    "\n",
    "print(f\"Validation Accuracy: {val_accuracy}\")\n",
    "print(f\"Validation F1 Score: {val_f1}\")\n",
    "print(\"Classification Report:\")\n",
    "print(classification_rep)"
   ]
  }
 ],
 "metadata": {
  "kernelspec": {
   "display_name": "env_modelling",
   "language": "python",
   "name": "python3"
  },
  "language_info": {
   "codemirror_mode": {
    "name": "ipython",
    "version": 3
   },
   "file_extension": ".py",
   "mimetype": "text/x-python",
   "name": "python",
   "nbconvert_exporter": "python",
   "pygments_lexer": "ipython3",
   "version": "3.12.0"
  }
 },
 "nbformat": 4,
 "nbformat_minor": 2
}
