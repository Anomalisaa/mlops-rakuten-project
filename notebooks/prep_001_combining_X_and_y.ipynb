{
 "cells": [
  {
   "cell_type": "code",
   "execution_count": 1,
   "id": "642ada67-7604-4e3e-b0f8-3646f1073108",
   "metadata": {
    "editable": true,
    "slideshow": {
     "slide_type": ""
    },
    "tags": []
   },
   "outputs": [],
   "source": [
    "import pandas as pd\n",
    "import numpy as np\n"
   ]
  },
  {
   "cell_type": "code",
   "execution_count": 2,
   "id": "c549e91b",
   "metadata": {},
   "outputs": [],
   "source": [
    "df_x_train = pd.read_csv(\"../data/raw/X_train_update.csv\", index_col=0)\n",
    "df_y_train = pd.read_csv(\"../data/raw/Y_train_CVw08PX.csv\", index_col=0)\n",
    "#df_x_test = pd.read_csv(\"./Data/X_test_update.csv\", index_col=0)"
   ]
  },
  {
   "cell_type": "code",
   "execution_count": null,
   "id": "3a393422-a1b6-41be-8fb4-ba7fc6b92432",
   "metadata": {},
   "outputs": [
    {
     "data": {
      "text/html": [
       "<div>\n",
       "<style scoped>\n",
       "    .dataframe tbody tr th:only-of-type {\n",
       "        vertical-align: middle;\n",
       "    }\n",
       "\n",
       "    .dataframe tbody tr th {\n",
       "        vertical-align: top;\n",
       "    }\n",
       "\n",
       "    .dataframe thead th {\n",
       "        text-align: right;\n",
       "    }\n",
       "</style>\n",
       "<table border=\"1\" class=\"dataframe\">\n",
       "  <thead>\n",
       "    <tr style=\"text-align: right;\">\n",
       "      <th></th>\n",
       "      <th>prdtypecode</th>\n",
       "    </tr>\n",
       "  </thead>\n",
       "  <tbody>\n",
       "    <tr>\n",
       "      <th>0</th>\n",
       "      <td>10</td>\n",
       "    </tr>\n",
       "    <tr>\n",
       "      <th>1</th>\n",
       "      <td>2280</td>\n",
       "    </tr>\n",
       "    <tr>\n",
       "      <th>2</th>\n",
       "      <td>50</td>\n",
       "    </tr>\n",
       "    <tr>\n",
       "      <th>3</th>\n",
       "      <td>1280</td>\n",
       "    </tr>\n",
       "    <tr>\n",
       "      <th>4</th>\n",
       "      <td>2705</td>\n",
       "    </tr>\n",
       "  </tbody>\n",
       "</table>\n",
       "</div>"
      ],
      "text/plain": [
       "  prdtypecode\n",
       "0          10\n",
       "1        2280\n",
       "2          50\n",
       "3        1280\n",
       "4        2705"
      ]
     },
     "execution_count": 3,
     "metadata": {},
     "output_type": "execute_result"
    }
   ],
   "source": [
    "df_y_train = df_y_train.astype(\"str\")\n"
   ]
  },
  {
   "cell_type": "markdown",
   "id": "5c4e51a2-6e86-47c8-86b7-b2c8052cda08",
   "metadata": {},
   "source": [
    "#### combine x_train with y_train"
   ]
  },
  {
   "cell_type": "code",
   "execution_count": null,
   "id": "4619c4dd-ed1f-4d27-9edd-e6eeda9d3d8c",
   "metadata": {},
   "outputs": [],
   "source": [
    "df_train_combined = pd.concat([df_x_train, df_y_train], axis=1)\n",
    "\n",
    "\n",
    "df_train_combined.to_csv(\"../data/raw/raw_x_y.csv\", index=False)"
   ]
  }
 ],
 "metadata": {
  "kernelspec": {
   "display_name": "Python (masterclass_venv)",
   "language": "python",
   "name": "venv"
  },
  "language_info": {
   "codemirror_mode": {
    "name": "ipython",
    "version": 3
   },
   "file_extension": ".py",
   "mimetype": "text/x-python",
   "name": "python",
   "nbconvert_exporter": "python",
   "pygments_lexer": "ipython3",
   "version": "3.12.0"
  }
 },
 "nbformat": 4,
 "nbformat_minor": 5
}
