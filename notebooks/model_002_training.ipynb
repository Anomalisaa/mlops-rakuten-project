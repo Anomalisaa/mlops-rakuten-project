{
 "cells": [
  {
   "cell_type": "code",
   "execution_count": null,
   "metadata": {},
   "outputs": [],
   "source": [
    "import pandas as pd\n",
    "import numpy as np\n",
    "from sklearn.linear_model import SGDClassifier\n",
    "from sklearn.utils.class_weight import compute_class_weight\n",
    "import joblib\n",
    "from sys import argv"
   ]
  },
  {
   "cell_type": "code",
   "execution_count": null,
   "metadata": {},
   "outputs": [],
   "source": [
    "input_dir = \"../data/processed\"\n",
    "y_train_path = f\"{input_dir}/y_train.pkl\"\n",
    "X_train_tfidf_path = f\"{input_dir}/X_train_tfidf.pkl\"\n",
    "output_dir = \"../models\""
   ]
  },
  {
   "cell_type": "code",
   "execution_count": null,
   "metadata": {},
   "outputs": [],
   "source": [
    "X_train_tfidf = pd.read_pickle(X_train_tfidf_path)\n",
    "\n",
    "y_train = pd.read_pickle(y_train_path)"
   ]
  },
  {
   "cell_type": "code",
   "execution_count": 7,
   "metadata": {},
   "outputs": [],
   "source": [
    "# Calculate class weights\n",
    "class_labels = np.unique(y_train)\n",
    "class_weights = compute_class_weight('balanced', classes=class_labels, y=y_train)\n",
    "custom_class_weights = dict(zip(class_labels, class_weights))\n"
   ]
  },
  {
   "cell_type": "code",
   "execution_count": null,
   "metadata": {},
   "outputs": [],
   "source": [
    "# Model definition: SGDClassifier with class weights\n",
    "clf = SGDClassifier(\n",
    "    loss='log_loss',\n",
    "    alpha=1.1616550847757421e-06,\n",
    "    eta0=0.04,\n",
    "    l1_ratio=0.0,\n",
    "    learning_rate='optimal',\n",
    "    penalty='elasticnet',\n",
    "    random_state=36,\n",
    "    class_weight=custom_class_weights\n",
    ")\n",
    "\n",
    "# Train the model\n",
    "clf.fit(X_train_tfidf, y_train)\n",
    "\n"
   ]
  },
  {
   "cell_type": "code",
   "execution_count": null,
   "metadata": {},
   "outputs": [
    {
     "data": {
      "text/plain": [
       "['../models/sgd_text_model.pkl']"
      ]
     },
     "execution_count": 11,
     "metadata": {},
     "output_type": "execute_result"
    }
   ],
   "source": [
    "# Save the trained model\n",
    "\n",
    "model_path = f\"{output_dir}/sgd_text_model.pkl\"\n",
    "joblib.dump(clf, model_path)"
   ]
  }
 ],
 "metadata": {
  "kernelspec": {
   "display_name": "env_modelling",
   "language": "python",
   "name": "python3"
  },
  "language_info": {
   "codemirror_mode": {
    "name": "ipython",
    "version": 3
   },
   "file_extension": ".py",
   "mimetype": "text/x-python",
   "name": "python",
   "nbconvert_exporter": "python",
   "pygments_lexer": "ipython3",
   "version": "3.12.0"
  }
 },
 "nbformat": 4,
 "nbformat_minor": 2
}
